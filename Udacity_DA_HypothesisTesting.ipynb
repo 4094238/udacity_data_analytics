{
 "cells": [
  {
   "cell_type": "code",
   "execution_count": 18,
   "id": "normal-boating",
   "metadata": {},
   "outputs": [
    {
     "name": "stdout",
     "output_type": "stream",
     "text": [
      "(2974, 4)\n"
     ]
    },
    {
     "data": {
      "text/html": [
       "<div>\n",
       "<style scoped>\n",
       "    .dataframe tbody tr th:only-of-type {\n",
       "        vertical-align: middle;\n",
       "    }\n",
       "\n",
       "    .dataframe tbody tr th {\n",
       "        vertical-align: top;\n",
       "    }\n",
       "\n",
       "    .dataframe thead th {\n",
       "        text-align: right;\n",
       "    }\n",
       "</style>\n",
       "<table border=\"1\" class=\"dataframe\">\n",
       "  <thead>\n",
       "    <tr style=\"text-align: right;\">\n",
       "      <th></th>\n",
       "      <th>user_id</th>\n",
       "      <th>age</th>\n",
       "      <th>drinks_coffee</th>\n",
       "      <th>height</th>\n",
       "    </tr>\n",
       "  </thead>\n",
       "  <tbody>\n",
       "    <tr>\n",
       "      <th>0</th>\n",
       "      <td>4509</td>\n",
       "      <td>&lt;21</td>\n",
       "      <td>False</td>\n",
       "      <td>64.538179</td>\n",
       "    </tr>\n",
       "    <tr>\n",
       "      <th>1</th>\n",
       "      <td>1864</td>\n",
       "      <td>&gt;=21</td>\n",
       "      <td>True</td>\n",
       "      <td>65.824249</td>\n",
       "    </tr>\n",
       "    <tr>\n",
       "      <th>2</th>\n",
       "      <td>2060</td>\n",
       "      <td>&lt;21</td>\n",
       "      <td>False</td>\n",
       "      <td>71.319854</td>\n",
       "    </tr>\n",
       "    <tr>\n",
       "      <th>3</th>\n",
       "      <td>7875</td>\n",
       "      <td>&gt;=21</td>\n",
       "      <td>True</td>\n",
       "      <td>68.569404</td>\n",
       "    </tr>\n",
       "    <tr>\n",
       "      <th>4</th>\n",
       "      <td>6254</td>\n",
       "      <td>&lt;21</td>\n",
       "      <td>True</td>\n",
       "      <td>64.020226</td>\n",
       "    </tr>\n",
       "  </tbody>\n",
       "</table>\n",
       "</div>"
      ],
      "text/plain": [
       "   user_id   age  drinks_coffee     height\n",
       "0     4509   <21          False  64.538179\n",
       "1     1864  >=21           True  65.824249\n",
       "2     2060   <21          False  71.319854\n",
       "3     7875  >=21           True  68.569404\n",
       "4     6254   <21           True  64.020226"
      ]
     },
     "execution_count": 18,
     "metadata": {},
     "output_type": "execute_result"
    }
   ],
   "source": [
    "import numpy as np\n",
    "import pandas as pd\n",
    "import matplotlib.pyplot as plt\n",
    "%matplotlib inline\n",
    "\n",
    "coffee = pd.read_csv('C:/Users/Agustin Ianchina/data/coffee_dataset.csv')\n",
    "\n",
    "print(coffee.shape)\n",
    "coffee.head()"
   ]
  },
  {
   "cell_type": "markdown",
   "id": "married-carnival",
   "metadata": {},
   "source": [
    "#### H0: height =<70\n",
    "#### H1: height >70"
   ]
  },
  {
   "cell_type": "markdown",
   "id": "preliminary-horizon",
   "metadata": {},
   "source": [
    "### Bootstrapresampling"
   ]
  },
  {
   "cell_type": "code",
   "execution_count": 19,
   "id": "assured-certification",
   "metadata": {},
   "outputs": [
    {
     "name": "stdout",
     "output_type": "stream",
     "text": [
      "10000\n"
     ]
    },
    {
     "data": {
      "image/png": "[encoded data removed]",
      "text/plain": [
       "<Figure size 432x288 with 1 Axes>"
      ]
     },
     "metadata": {
      "needs_background": "light"
     },
     "output_type": "display_data"
    }
   ],
   "source": [
    "mean = []\n",
    "for i in range(10000):\n",
    "    sample = coffee.sample(200, replace = True)\n",
    "    mean.append(sample['height'].mean())\n",
    "plt.hist(mean)\n",
    "low = np.percentile(mean, 0.25)\n",
    "high = np.percentile(mean, 97.5)\n",
    "plt.axvline(low)\n",
    "plt.axvline(high)\n",
    "plt.text(low, 2000, '{:0.1f}'.format(low), color = 'black')\n",
    "plt.text(high, 2000, '{:0.1f}'.format(high), color ='black')\n",
    "print(len(mean))"
   ]
  },
  {
   "cell_type": "markdown",
   "id": "recreational-module",
   "metadata": {},
   "source": [
    "##### with a 95% confidence interval the parameter mean is within 67 and 68"
   ]
  },
  {
   "cell_type": "markdown",
   "id": "emerging-actress",
   "metadata": {},
   "source": [
    "### Simulating the distribution from H0"
   ]
  },
  {
   "cell_type": "code",
   "execution_count": 4,
   "id": "horizontal-plymouth",
   "metadata": {},
   "outputs": [
    {
     "data": {
      "text/plain": [
       "0.21922387784839412"
      ]
     },
     "execution_count": 4,
     "metadata": {},
     "output_type": "execute_result"
    }
   ],
   "source": [
    "np.std(mean)"
   ]
  },
  {
   "cell_type": "code",
   "execution_count": 8,
   "id": "painted-absolute",
   "metadata": {},
   "outputs": [
    {
     "data": {
      "text/plain": [
       "67.59785800383015"
      ]
     },
     "execution_count": 8,
     "metadata": {},
     "output_type": "execute_result"
    }
   ],
   "source": [
    "sample_mean = np.mean(mean)\n",
    "sample_mean"
   ]
  },
  {
   "cell_type": "code",
   "execution_count": 6,
   "id": "indie-tiffany",
   "metadata": {},
   "outputs": [
    {
     "data": {
      "text/plain": [
       "<matplotlib.lines.Line2D at 0x2bee2a8e6d0>"
      ]
     },
     "execution_count": 6,
     "metadata": {},
     "output_type": "execute_result"
    },
    {
     "data": {
      "image/png": "[encoded data removed]",
      "text/plain": [
       "<Figure size 432x288 with 1 Axes>"
      ]
     },
     "metadata": {
      "needs_background": "light"
     },
     "output_type": "display_data"
    }
   ],
   "source": [
    "a = np.random.normal(70, np.std(mean), 10000)\n",
    "b = np.random.normal(np.mean(mean), np.std(mean), 10000)\n",
    "plt.hist(a);\n",
    "plt.hist(b)\n",
    "plt.axvline(np.mean(mean))"
   ]
  },
  {
   "cell_type": "code",
   "execution_count": 12,
   "id": "horizontal-underwear",
   "metadata": {},
   "outputs": [
    {
     "data": {
      "text/plain": [
       "1.0"
      ]
     },
     "execution_count": 12,
     "metadata": {},
     "output_type": "execute_result"
    }
   ],
   "source": [
    "(a>sample_mean).mean()"
   ]
  },
  {
   "cell_type": "markdown",
   "id": "coastal-muscle",
   "metadata": {},
   "source": [
    "#### Si las hipótesis fueran así:\n",
    "###### H0 height>=70, H1 height<70"
   ]
  },
  {
   "cell_type": "code",
   "execution_count": 13,
   "id": "laden-communist",
   "metadata": {},
   "outputs": [
    {
     "data": {
      "text/plain": [
       "0.0"
      ]
     },
     "execution_count": 13,
     "metadata": {},
     "output_type": "execute_result"
    }
   ],
   "source": [
    "(a<sample_mean).mean()"
   ]
  },
  {
   "cell_type": "markdown",
   "id": "attached-faith",
   "metadata": {},
   "source": [
    "##### Si las hipótesis fueran así:\n",
    "##### H0 height = 70, H1 height !=70"
   ]
  },
  {
   "cell_type": "code",
   "execution_count": 17,
   "id": "union-honduras",
   "metadata": {},
   "outputs": [
    {
     "data": {
      "text/plain": [
       "0.0"
      ]
     },
     "execution_count": 17,
     "metadata": {},
     "output_type": "execute_result"
    }
   ],
   "source": [
    "(a<sample_mean).mean()+(a>((70+(70-sample_mean.mean())).mean())).mean()"
   ]
  },
  {
   "cell_type": "code",
   "execution_count": null,
   "id": "architectural-vancouver",
   "metadata": {},
   "outputs": [],
   "source": []
  }
 ],
 "metadata": {
  "kernelspec": {
   "display_name": "Python 3",
   "language": "python",
   "name": "python3"
  },
  "language_info": {
   "codemirror_mode": {
    "name": "ipython",
    "version": 3
   },
   "file_extension": ".py",
   "mimetype": "text/x-python",
   "name": "python",
   "nbconvert_exporter": "python",
   "pygments_lexer": "ipython3",
   "version": "3.8.8"
  }
 },
 "nbformat": 4,
 "nbformat_minor": 5
}
