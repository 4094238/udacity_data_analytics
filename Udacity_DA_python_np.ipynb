{
 "cells": [
  {
   "cell_type": "code",
   "execution_count": 1,
   "id": "genuine-allen",
   "metadata": {},
   "outputs": [
    {
     "name": "stdout",
     "output_type": "stream",
     "text": [
      "Automatic pdb calling has been turned ON\n"
     ]
    }
   ],
   "source": [
    "%pdb"
   ]
  },
  {
   "cell_type": "code",
   "execution_count": 2,
   "id": "outside-abortion",
   "metadata": {},
   "outputs": [
    {
     "data": {
      "text/plain": [
       "[<matplotlib.lines.Line2D at 0x1fe6a813f10>]"
      ]
     },
     "execution_count": 2,
     "metadata": {},
     "output_type": "execute_result"
    },
    {
     "data": {
      "image/png": "[encoded data removed]",
      "text/plain": [
       "<Figure size 432x288 with 1 Axes>"
      ]
     },
     "metadata": {
      "needs_background": "light"
     },
     "output_type": "display_data"
    }
   ],
   "source": [
    "%matplotlib inline\n",
    "#%config InlineBackend.figure_format='retina'\n",
    "\n",
    "import matplotlib.pyplot as plt\n",
    "import numpy as np\n",
    "x = np.linspace(0,1,300)\n",
    "plt.plot(np.sin(np.pi*x)*np.cos(np.pi*x))"
   ]
  },
  {
   "cell_type": "code",
   "execution_count": null,
   "id": "developed-eating",
   "metadata": {
    "scrolled": true
   },
   "outputs": [],
   "source": []
  },
  {
   "cell_type": "code",
   "execution_count": 3,
   "id": "appropriate-principal",
   "metadata": {},
   "outputs": [],
   "source": [
    "nominated = {1931: ['Norman Taurog', 'Wesley Ruggles', 'Clarence Brown', 'Lewis Milestone', 'Josef Von Sternberg'], 1932: ['Frank Borzage', 'King Vidor', 'Josef Von Sternberg'], 1933: ['Frank Lloyd', 'Frank Capra', 'George Cukor'], 1934: ['Frank Capra', 'Victor Schertzinger', 'W. S. Van Dyke'], 1935: ['John Ford', 'Michael Curtiz', 'Henry Hathaway', 'Frank Lloyd'], 1936: ['Frank Capra', 'William Wyler', 'Robert Z. Leonard', 'Gregory La Cava', 'W. S. Van Dyke'], 1937: ['Leo McCarey', 'Sidney Franklin', 'William Dieterle', 'Gregory La Cava', 'William Wellman'], 1938: ['Frank Capra', 'Michael Curtiz', 'Norman Taurog', 'King Vidor', 'Michael Curtiz'], 1939: ['Sam Wood', 'Frank Capra', 'John Ford', 'William Wyler', 'Victor Fleming'], 1940: ['John Ford', 'Sam Wood', 'William Wyler', 'George Cukor', 'Alfred Hitchcock'], 1941: ['John Ford', 'Orson Welles', 'Alexander Hall', 'William Wyler', 'Howard Hawks'], 1942: ['Sam Wood', 'Mervyn LeRoy', 'John Farrow', 'Michael Curtiz', 'William Wyler'], 1943: ['Michael Curtiz', 'Ernst Lubitsch', 'Clarence Brown', 'George Stevens', 'Henry King'], 1944: ['Leo McCarey', 'Billy Wilder', 'Otto Preminger', 'Alfred Hitchcock', 'Henry King'], 1945: ['Billy Wilder', 'Leo McCarey', 'Clarence Brown', 'Jean Renoir', 'Alfred Hitchcock'], 1946: ['David Lean', 'Frank Capra', 'Robert Siodmak', 'Clarence Brown', 'William Wyler'], 1947: ['Elia Kazan', 'Henry Koster', 'Edward Dmytryk', 'George Cukor', 'David Lean'], 1948: ['John Huston', 'Laurence Olivier', 'Jean Negulesco', 'Fred Zinnemann', 'Anatole Litvak'], 1949: ['Joseph L. Mankiewicz', 'Robert Rossen', 'William A. Wellman', 'Carol Reed', 'William Wyler'], 1950: ['Joseph L. Mankiewicz', 'John Huston', 'George Cukor', 'Billy Wilder', 'Carol Reed'], 1951: ['George Stevens', 'John Huston', 'Vincente Minnelli', 'William Wyler', 'Elia Kazan'], 1952: ['John Ford', 'Joseph L. Mankiewicz', 'Cecil B. DeMille', 'Fred Zinnemann', 'John Huston'], 1953: ['Fred Zinnemann', 'Charles Walters', 'William Wyler', 'George Stevens', 'Billy Wilder'], 1954: ['Elia Kazan', 'George Seaton', 'William Wellman', 'Alfred Hitchcock', 'Billy Wilder'], 1955: ['Delbert Mann', 'John Sturges', 'Elia Kazan', 'Joshua Logan', 'David Lean'], 1956: ['George Stevens', 'Michael Anderson', 'William Wyler', 'Walter Lang', 'King Vidor'], 1957: ['David Lean', 'Mark Robson', 'Joshua Logan', 'Sidney Lumet', 'Billy Wilder'], 1958: ['Richard Brooks', 'Stanley Kramer', 'Robert Wise', 'Mark Robson', 'Vincente Minnelli'], 1959: ['George Stevens', 'Fred Zinnemann', 'Jack Clayton', 'Billy Wilder', 'William Wyler'], 1960: ['Billy Wilder', 'Jules Dassin', 'Alfred Hitchcock', 'Jack Cardiff', 'Fred Zinnemann'], 1961: ['J. Lee Thompson', 'Robert Rossen', 'Stanley Kramer', 'Federico Fellini', 'Robert Wise', 'Jerome Robbins'], 1962: ['David Lean', 'Frank Perry', 'Pietro Germi', 'Arthur Penn', 'Robert Mulligan'], 1963: ['Elia Kazan', 'Otto Preminger', 'Federico Fellini', 'Martin Ritt', 'Tony Richardson'], 1964: ['George Cukor', 'Peter Glenville', 'Stanley Kubrick', 'Robert Stevenson', 'Michael Cacoyannis'], 1965: ['William Wyler', 'John Schlesinger', 'David Lean', 'Hiroshi Teshigahara', 'Robert Wise'], 1966: ['Fred Zinnemann', 'Michelangelo Antonioni', 'Claude Lelouch', 'Richard Brooks', 'Mike Nichols'], 1967: ['Arthur Penn', 'Stanley Kramer', 'Richard Brooks', 'Norman Jewison', 'Mike Nichols'], 1968: ['Carol Reed', 'Gillo Pontecorvo', 'Anthony Harvey', 'Franco Zeffirelli', 'Stanley Kubrick'], 1969: ['John Schlesinger', 'Arthur Penn', 'George Roy Hill', 'Sydney Pollack', 'Costa-Gavras'], 1970: ['Franklin J. Schaffner', 'Federico Fellini', 'Arthur Hiller', 'Robert Altman', 'Ken Russell'], 1971: ['Stanley Kubrick', 'Norman Jewison', 'Peter Bogdanovich', 'John Schlesinger', 'William Friedkin'], 1972: ['Bob Fosse', 'John Boorman', 'Jan Troell', 'Francis Ford Coppola', 'Joseph L. Mankiewicz'], 1973: ['George Roy Hill', 'George Lucas', 'Ingmar Bergman', 'William Friedkin', 'Bernardo Bertolucci'], 1974: ['Francis Ford Coppola', 'Roman Polanski', 'Francois Truffaut', 'Bob Fosse', 'John Cassavetes'], 1975: ['Federico Fellini', 'Stanley Kubrick', 'Sidney Lumet', 'Robert Altman', 'Milos Forman'], 1976: ['Alan J. Pakula', 'Ingmar Bergman', 'Sidney Lumet', 'Lina Wertmuller', 'John G. Avildsen'], 1977: ['Steven Spielberg', 'Fred Zinnemann', 'George Lucas', 'Herbert Ross', 'Woody Allen'], 1978: ['Hal Ashby', 'Warren Beatty', 'Buck Henry', 'Woody Allen', 'Alan Parker', 'Michael Cimino'], 1979: ['Bob Fosse', 'Francis Coppola', 'Peter Yates', 'Edouard Molinaro', 'Robert Benton'], 1980: ['David Lynch', 'Martin Scorsese', 'Richard Rush', 'Roman Polanski', 'Robert Redford'], 1981: ['Louis Malle', 'Hugh Hudson', 'Mark Rydell', 'Steven Spielberg', 'Warren Beatty'], 1982: ['Wolfgang Petersen', 'Steven Spielberg', 'Sydney Pollack', 'Sidney Lumet', 'Richard Attenborough'], 1983: ['Peter Yates', 'Ingmar Bergman', 'Mike Nichols', 'Bruce Beresford', 'James L. Brooks'], 1984: ['Woody Allen', 'Roland Joffe', 'David Lean', 'Robert Benton', 'Milos Forman'], 1985: ['Hector Babenco', 'John Huston', 'Akira Kurosawa', 'Peter Weir', 'Sydney Pollack'], 1986: ['David Lynch', 'Woody Allen', 'Roland Joffe', 'James Ivory', 'Oliver Stone'], 1987: ['Bernardo Bertolucci', 'Adrian Lyne', 'John Boorman', 'Norman Jewison', 'Lasse Hallstrom'], 1988: ['Barry Levinson', 'Charles Crichton', 'Martin Scorsese', 'Alan Parker', 'Mike Nichols'], 1989: ['Woody Allen', 'Peter Weir', 'Kenneth Branagh', 'Jim Sheridan', 'Oliver Stone'], 1990: ['Francis Ford Coppola', 'Martin Scorsese', 'Stephen Frears', 'Barbet Schroeder', 'Kevin Costner'], 1991: ['John Singleton', 'Barry Levinson', 'Oliver Stone', 'Ridley Scott', 'Jonathan Demme'], 1992: ['Clint Eastwood', 'Neil Jordan', 'James Ivory', 'Robert Altman', 'Martin Brest'], 1993: ['Jim Sheridan', 'Jane Campion', 'James Ivory', 'Robert Altman', 'Steven Spielberg'], 1994: ['Woody Allen', 'Quentin Tarantino', 'Robert Redford', 'Krzysztof Kieslowski', 'Robert Zemeckis'], 1995: ['Chris Noonan', 'Tim Robbins', 'Mike Figgis', 'Michael Radford', 'Mel Gibson'], 1996: ['Anthony Minghella', 'Joel Coen', 'Milos Forman', 'Mike Leigh', 'Scott Hicks'], 1997: ['Peter Cattaneo', 'Gus Van Sant', 'Curtis Hanson', 'Atom Egoyan', 'James Cameron'], 1998: ['Roberto Benigni', 'John Madden', 'Terrence Malick', 'Peter Weir', 'Steven Spielberg'], 1999: ['Spike Jonze', 'Lasse Hallstrom', 'Michael Mann', 'M. Night Shyamalan', 'Sam Mendes'], 2000: ['Stephen Daldry', 'Ang Lee', 'Steven Soderbergh', 'Ridley Scott', 'Steven Soderbergh'], 2001: ['Ridley Scott', 'Robert Altman', 'Peter Jackson', 'David Lynch', 'Ron Howard'], 2002: ['Rob Marshall', 'Martin Scorsese', 'Stephen Daldry', 'Pedro Almodovar', 'Roman Polanski'], 2003: ['Fernando Meirelles', 'Sofia Coppola', 'Peter Weir', 'Clint Eastwood', 'Peter Jackson'], 2004: ['Martin Scorsese', 'Taylor Hackford', 'Alexander Payne', 'Mike Leigh', 'Clint Eastwood'], 2005: ['Ang Lee', 'Bennett Miller', 'Paul Haggis', 'George Clooney', 'Steven Spielberg'], 2006: ['Alejandro Gonzaalez Inarritu', 'Clint Eastwood', 'Stephen Frears', 'Paul Greengrass', 'Martin Scorsese'], 2007: ['Julian Schnabel', 'Jason Reitman', 'Tony Gilroy', 'Paul Thomas Anderson', 'Joel Coen', 'Ethan Coen'], 2008: ['David Fincher', 'Ron Howard', 'Gus Van Sant', 'Stephen Daldry', 'Danny Boyle'], 2009: ['James Cameron', 'Quentin Tarantino', 'Lee Daniels', 'Jason Reitman', 'Kathryn Bigelow'], 2010: ['Darren Aronofsky', 'David O. Russell', 'David Fincher', 'Ethan Coen', 'Joel Coen', 'Tom Hooper']}\n"
   ]
  },
  {
   "cell_type": "code",
   "execution_count": 4,
   "id": "dominican-weekly",
   "metadata": {},
   "outputs": [
    {
     "data": {
      "text/plain": [
       "{'Norman Taurog': 2,\n",
       " 'Wesley Ruggles': 1,\n",
       " 'Clarence Brown': 4,\n",
       " 'Lewis Milestone': 1,\n",
       " 'Josef Von Sternberg': 2,\n",
       " 'Frank Borzage': 1,\n",
       " 'King Vidor': 3,\n",
       " 'Frank Lloyd': 2,\n",
       " 'Frank Capra': 6,\n",
       " 'George Cukor': 5,\n",
       " 'Victor Schertzinger': 1,\n",
       " 'W. S. Van Dyke': 2,\n",
       " 'John Ford': 5,\n",
       " 'Michael Curtiz': 5,\n",
       " 'Henry Hathaway': 1,\n",
       " 'William Wyler': 12,\n",
       " 'Robert Z. Leonard': 1,\n",
       " 'Gregory La Cava': 2,\n",
       " 'Leo McCarey': 3,\n",
       " 'Sidney Franklin': 1,\n",
       " 'William Dieterle': 1,\n",
       " 'William Wellman': 2,\n",
       " 'Sam Wood': 3,\n",
       " 'Victor Fleming': 1,\n",
       " 'Alfred Hitchcock': 5,\n",
       " 'Orson Welles': 1,\n",
       " 'Alexander Hall': 1,\n",
       " 'Howard Hawks': 1,\n",
       " 'Mervyn LeRoy': 1,\n",
       " 'John Farrow': 1,\n",
       " 'Ernst Lubitsch': 1,\n",
       " 'George Stevens': 5,\n",
       " 'Henry King': 2,\n",
       " 'Billy Wilder': 8,\n",
       " 'Otto Preminger': 2,\n",
       " 'Jean Renoir': 1,\n",
       " 'David Lean': 7,\n",
       " 'Robert Siodmak': 1,\n",
       " 'Elia Kazan': 5,\n",
       " 'Henry Koster': 1,\n",
       " 'Edward Dmytryk': 1,\n",
       " 'John Huston': 5,\n",
       " 'Laurence Olivier': 1,\n",
       " 'Jean Negulesco': 1,\n",
       " 'Fred Zinnemann': 7,\n",
       " 'Anatole Litvak': 1,\n",
       " 'Joseph L. Mankiewicz': 4,\n",
       " 'Robert Rossen': 2,\n",
       " 'William A. Wellman': 1,\n",
       " 'Carol Reed': 3,\n",
       " 'Vincente Minnelli': 2,\n",
       " 'Cecil B. DeMille': 1,\n",
       " 'Charles Walters': 1,\n",
       " 'George Seaton': 1,\n",
       " 'Delbert Mann': 1,\n",
       " 'John Sturges': 1,\n",
       " 'Joshua Logan': 2,\n",
       " 'Michael Anderson': 1,\n",
       " 'Walter Lang': 1,\n",
       " 'Mark Robson': 2,\n",
       " 'Sidney Lumet': 4,\n",
       " 'Richard Brooks': 3,\n",
       " 'Stanley Kramer': 3,\n",
       " 'Robert Wise': 3,\n",
       " 'Jack Clayton': 1,\n",
       " 'Jules Dassin': 1,\n",
       " 'Jack Cardiff': 1,\n",
       " 'J. Lee Thompson': 1,\n",
       " 'Federico Fellini': 4,\n",
       " 'Jerome Robbins': 1,\n",
       " 'Frank Perry': 1,\n",
       " 'Pietro Germi': 1,\n",
       " 'Arthur Penn': 3,\n",
       " 'Robert Mulligan': 1,\n",
       " 'Martin Ritt': 1,\n",
       " 'Tony Richardson': 1,\n",
       " 'Peter Glenville': 1,\n",
       " 'Stanley Kubrick': 4,\n",
       " 'Robert Stevenson': 1,\n",
       " 'Michael Cacoyannis': 1,\n",
       " 'John Schlesinger': 3,\n",
       " 'Hiroshi Teshigahara': 1,\n",
       " 'Michelangelo Antonioni': 1,\n",
       " 'Claude Lelouch': 1,\n",
       " 'Mike Nichols': 4,\n",
       " 'Norman Jewison': 3,\n",
       " 'Gillo Pontecorvo': 1,\n",
       " 'Anthony Harvey': 1,\n",
       " 'Franco Zeffirelli': 1,\n",
       " 'George Roy Hill': 2,\n",
       " 'Sydney Pollack': 3,\n",
       " 'Costa-Gavras': 1,\n",
       " 'Franklin J. Schaffner': 1,\n",
       " 'Arthur Hiller': 1,\n",
       " 'Robert Altman': 5,\n",
       " 'Ken Russell': 1,\n",
       " 'Peter Bogdanovich': 1,\n",
       " 'William Friedkin': 2,\n",
       " 'Bob Fosse': 3,\n",
       " 'John Boorman': 2,\n",
       " 'Jan Troell': 1,\n",
       " 'Francis Ford Coppola': 3,\n",
       " 'George Lucas': 2,\n",
       " 'Ingmar Bergman': 3,\n",
       " 'Bernardo Bertolucci': 2,\n",
       " 'Roman Polanski': 3,\n",
       " 'Francois Truffaut': 1,\n",
       " 'John Cassavetes': 1,\n",
       " 'Milos Forman': 3,\n",
       " 'Alan J. Pakula': 1,\n",
       " 'Lina Wertmuller': 1,\n",
       " 'John G. Avildsen': 1,\n",
       " 'Steven Spielberg': 6,\n",
       " 'Herbert Ross': 1,\n",
       " 'Woody Allen': 6,\n",
       " 'Hal Ashby': 1,\n",
       " 'Warren Beatty': 2,\n",
       " 'Buck Henry': 1,\n",
       " 'Alan Parker': 2,\n",
       " 'Michael Cimino': 1,\n",
       " 'Francis Coppola': 1,\n",
       " 'Peter Yates': 2,\n",
       " 'Edouard Molinaro': 1,\n",
       " 'Robert Benton': 2,\n",
       " 'David Lynch': 3,\n",
       " 'Martin Scorsese': 6,\n",
       " 'Richard Rush': 1,\n",
       " 'Robert Redford': 2,\n",
       " 'Louis Malle': 1,\n",
       " 'Hugh Hudson': 1,\n",
       " 'Mark Rydell': 1,\n",
       " 'Wolfgang Petersen': 1,\n",
       " 'Richard Attenborough': 1,\n",
       " 'Bruce Beresford': 1,\n",
       " 'James L. Brooks': 1,\n",
       " 'Roland Joffe': 2,\n",
       " 'Hector Babenco': 1,\n",
       " 'Akira Kurosawa': 1,\n",
       " 'Peter Weir': 4,\n",
       " 'James Ivory': 3,\n",
       " 'Oliver Stone': 3,\n",
       " 'Adrian Lyne': 1,\n",
       " 'Lasse Hallstrom': 2,\n",
       " 'Barry Levinson': 2,\n",
       " 'Charles Crichton': 1,\n",
       " 'Kenneth Branagh': 1,\n",
       " 'Jim Sheridan': 2,\n",
       " 'Stephen Frears': 2,\n",
       " 'Barbet Schroeder': 1,\n",
       " 'Kevin Costner': 1,\n",
       " 'John Singleton': 1,\n",
       " 'Ridley Scott': 3,\n",
       " 'Jonathan Demme': 1,\n",
       " 'Clint Eastwood': 4,\n",
       " 'Neil Jordan': 1,\n",
       " 'Martin Brest': 1,\n",
       " 'Jane Campion': 1,\n",
       " 'Quentin Tarantino': 2,\n",
       " 'Krzysztof Kieslowski': 1,\n",
       " 'Robert Zemeckis': 1,\n",
       " 'Chris Noonan': 1,\n",
       " 'Tim Robbins': 1,\n",
       " 'Mike Figgis': 1,\n",
       " 'Michael Radford': 1,\n",
       " 'Mel Gibson': 1,\n",
       " 'Anthony Minghella': 1,\n",
       " 'Joel Coen': 3,\n",
       " 'Mike Leigh': 2,\n",
       " 'Scott Hicks': 1,\n",
       " 'Peter Cattaneo': 1,\n",
       " 'Gus Van Sant': 2,\n",
       " 'Curtis Hanson': 1,\n",
       " 'Atom Egoyan': 1,\n",
       " 'James Cameron': 2,\n",
       " 'Roberto Benigni': 1,\n",
       " 'John Madden': 1,\n",
       " 'Terrence Malick': 1,\n",
       " 'Spike Jonze': 1,\n",
       " 'Michael Mann': 1,\n",
       " 'M. Night Shyamalan': 1,\n",
       " 'Sam Mendes': 1,\n",
       " 'Stephen Daldry': 3,\n",
       " 'Ang Lee': 2,\n",
       " 'Steven Soderbergh': 2,\n",
       " 'Peter Jackson': 2,\n",
       " 'Ron Howard': 2,\n",
       " 'Rob Marshall': 1,\n",
       " 'Pedro Almodovar': 1,\n",
       " 'Fernando Meirelles': 1,\n",
       " 'Sofia Coppola': 1,\n",
       " 'Taylor Hackford': 1,\n",
       " 'Alexander Payne': 1,\n",
       " 'Bennett Miller': 1,\n",
       " 'Paul Haggis': 1,\n",
       " 'George Clooney': 1,\n",
       " 'Alejandro Gonzaalez Inarritu': 1,\n",
       " 'Paul Greengrass': 1,\n",
       " 'Julian Schnabel': 1,\n",
       " 'Jason Reitman': 2,\n",
       " 'Tony Gilroy': 1,\n",
       " 'Paul Thomas Anderson': 1,\n",
       " 'Ethan Coen': 2,\n",
       " 'David Fincher': 2,\n",
       " 'Danny Boyle': 1,\n",
       " 'Lee Daniels': 1,\n",
       " 'Kathryn Bigelow': 1,\n",
       " 'Darren Aronofsky': 1,\n",
       " 'David O. Russell': 1,\n",
       " 'Tom Hooper': 1}"
      ]
     },
     "execution_count": 4,
     "metadata": {},
     "output_type": "execute_result"
    }
   ],
   "source": [
    "nom_dir = {}\n",
    "dir_list = list()\n",
    "for year in nominated:\n",
    "    for i in range(len(nominated[year])):\n",
    "        dir_list.append(nominated[year][i])\n",
    "\n",
    "for i in dir_list:\n",
    "    nom_dir[i] = nom_dir.get(i,0)+1\n",
    "nom_dir"
   ]
  },
  {
   "cell_type": "code",
   "execution_count": 5,
   "id": "rocky-tribe",
   "metadata": {},
   "outputs": [],
   "source": [
    "winners = {1931: ['Norman Taurog'], 1932: ['Frank Borzage'], 1933: ['Frank Lloyd'], 1934: ['Frank Capra'], 1935: ['John Ford'], 1936: ['Frank Capra'], 1937: ['Leo McCarey'], 1938: ['Frank Capra'], 1939: ['Victor Fleming'], 1940: ['John Ford'], 1941: ['John Ford'], 1942: ['William Wyler'], 1943: ['Michael Curtiz'], 1944: ['Leo McCarey'], 1945: ['Billy Wilder'], 1946: ['William Wyler'], 1947: ['Elia Kazan'], 1948: ['John Huston'], 1949: ['Joseph L. Mankiewicz'], 1950: ['Joseph L. Mankiewicz'], 1951: ['George Stevens'], 1952: ['John Ford'], 1953: ['Fred Zinnemann'], 1954: ['Elia Kazan'], 1955: ['Delbert Mann'], 1956: ['George Stevens'], 1957: ['David Lean'], 1958: ['Vincente Minnelli'], 1959: ['William Wyler'], 1960: ['Billy Wilder'], 1961: ['Jerome Robbins', 'Robert Wise'], 1962: ['David Lean'], 1963: ['Tony Richardson'], 1964: ['George Cukor'], 1965: ['Robert Wise'], 1966: ['Fred Zinnemann'], 1967: ['Mike Nichols'], 1968: ['Carol Reed'], 1969: ['John Schlesinger'], 1970: ['Franklin J. Schaffner'], 1971: ['William Friedkin'], 1972: ['Bob Fosse'], 1973: ['George Roy Hill'], 1974: ['Francis Ford Coppola'], 1975: ['Milos Forman'], 1976: ['John G. Avildsen'], 1977: ['Woody Allen'], 1978: ['Michael Cimino'], 1979: ['Robert Benton'], 1980: ['Robert Redford'], 1981: ['Warren Beatty'], 1982: ['Richard Attenborough'], 1983: ['James L. Brooks'], 1984: ['Milos Forman'], 1985: ['Sydney Pollack'], 1986: ['Oliver Stone'], 1987: ['Bernardo Bertolucci'], 1988: ['Barry Levinson'], 1989: ['Oliver Stone'], 1990: ['Kevin Costner'], 1991: ['Jonathan Demme'], 1992: ['Clint Eastwood'], 1993: ['Steven Spielberg'], 1994: ['Robert Zemeckis'], 1995: ['Mel Gibson'], 1996: ['Anthony Minghella'], 1997: ['James Cameron'], 1998: ['Steven Spielberg'], 1999: ['Sam Mendes'], 2000: ['Steven Soderbergh'], 2001: ['Ron Howard'], 2002: ['Roman Polanski'], 2003: ['Peter Jackson'], 2004: ['Clint Eastwood'], 2005: ['Ang Lee'], 2006: ['Martin Scorsese'], 2007: ['Ethan Coen', 'Joel Coen'], 2008: ['Danny Boyle'], 2009: ['Kathryn Bigelow'], 2010: ['Tom Hooper']}\n"
   ]
  },
  {
   "cell_type": "code",
   "execution_count": 6,
   "id": "intellectual-diversity",
   "metadata": {
    "scrolled": true
   },
   "outputs": [
    {
     "data": {
      "text/plain": [
       "[['Norman Taurog'],\n",
       " ['Frank Borzage'],\n",
       " ['Frank Lloyd'],\n",
       " ['Frank Capra'],\n",
       " ['John Ford'],\n",
       " ['Frank Capra'],\n",
       " ['Leo McCarey'],\n",
       " ['Frank Capra'],\n",
       " ['Victor Fleming'],\n",
       " ['John Ford'],\n",
       " ['John Ford'],\n",
       " ['William Wyler'],\n",
       " ['Michael Curtiz'],\n",
       " ['Leo McCarey'],\n",
       " ['Billy Wilder'],\n",
       " ['William Wyler'],\n",
       " ['Elia Kazan'],\n",
       " ['John Huston'],\n",
       " ['Joseph L. Mankiewicz'],\n",
       " ['Joseph L. Mankiewicz'],\n",
       " ['George Stevens'],\n",
       " ['John Ford'],\n",
       " ['Fred Zinnemann'],\n",
       " ['Elia Kazan'],\n",
       " ['Delbert Mann'],\n",
       " ['George Stevens'],\n",
       " ['David Lean'],\n",
       " ['Vincente Minnelli'],\n",
       " ['William Wyler'],\n",
       " ['Billy Wilder'],\n",
       " ['Jerome Robbins', 'Robert Wise'],\n",
       " ['David Lean'],\n",
       " ['Tony Richardson'],\n",
       " ['George Cukor'],\n",
       " ['Robert Wise'],\n",
       " ['Fred Zinnemann'],\n",
       " ['Mike Nichols'],\n",
       " ['Carol Reed'],\n",
       " ['John Schlesinger'],\n",
       " ['Franklin J. Schaffner'],\n",
       " ['William Friedkin'],\n",
       " ['Bob Fosse'],\n",
       " ['George Roy Hill'],\n",
       " ['Francis Ford Coppola'],\n",
       " ['Milos Forman'],\n",
       " ['John G. Avildsen'],\n",
       " ['Woody Allen'],\n",
       " ['Michael Cimino'],\n",
       " ['Robert Benton'],\n",
       " ['Robert Redford'],\n",
       " ['Warren Beatty'],\n",
       " ['Richard Attenborough'],\n",
       " ['James L. Brooks'],\n",
       " ['Milos Forman'],\n",
       " ['Sydney Pollack'],\n",
       " ['Oliver Stone'],\n",
       " ['Bernardo Bertolucci'],\n",
       " ['Barry Levinson'],\n",
       " ['Oliver Stone'],\n",
       " ['Kevin Costner'],\n",
       " ['Jonathan Demme'],\n",
       " ['Clint Eastwood'],\n",
       " ['Steven Spielberg'],\n",
       " ['Robert Zemeckis'],\n",
       " ['Mel Gibson'],\n",
       " ['Anthony Minghella'],\n",
       " ['James Cameron'],\n",
       " ['Steven Spielberg'],\n",
       " ['Sam Mendes'],\n",
       " ['Steven Soderbergh'],\n",
       " ['Ron Howard'],\n",
       " ['Roman Polanski'],\n",
       " ['Peter Jackson'],\n",
       " ['Clint Eastwood'],\n",
       " ['Ang Lee'],\n",
       " ['Martin Scorsese'],\n",
       " ['Ethan Coen', 'Joel Coen'],\n",
       " ['Danny Boyle'],\n",
       " ['Kathryn Bigelow'],\n",
       " ['Tom Hooper']]"
      ]
     },
     "execution_count": 6,
     "metadata": {},
     "output_type": "execute_result"
    }
   ],
   "source": [
    "win_list = list()\n",
    "for year in winners:\n",
    "    win_list.append(winners[year])\n",
    "win_list"
   ]
  },
  {
   "cell_type": "code",
   "execution_count": 7,
   "id": "expanded-image",
   "metadata": {
    "scrolled": true
   },
   "outputs": [
    {
     "data": {
      "text/plain": [
       "{'Norman Taurog': 1,\n",
       " 'Frank Borzage': 1,\n",
       " 'Frank Lloyd': 1,\n",
       " 'Frank Capra': 3,\n",
       " 'John Ford': 4,\n",
       " 'Leo McCarey': 2,\n",
       " 'Victor Fleming': 1,\n",
       " 'William Wyler': 3,\n",
       " 'Michael Curtiz': 1,\n",
       " 'Billy Wilder': 2,\n",
       " 'Elia Kazan': 2,\n",
       " 'John Huston': 1,\n",
       " 'Joseph L. Mankiewicz': 2,\n",
       " 'George Stevens': 2,\n",
       " 'Fred Zinnemann': 2,\n",
       " 'Delbert Mann': 1,\n",
       " 'David Lean': 2,\n",
       " 'Vincente Minnelli': 1,\n",
       " 'Jerome Robbins': 1,\n",
       " 'Robert Wise': 2,\n",
       " 'Tony Richardson': 1,\n",
       " 'George Cukor': 1,\n",
       " 'Mike Nichols': 1,\n",
       " 'Carol Reed': 1,\n",
       " 'John Schlesinger': 1,\n",
       " 'Franklin J. Schaffner': 1,\n",
       " 'William Friedkin': 1,\n",
       " 'Bob Fosse': 1,\n",
       " 'George Roy Hill': 1,\n",
       " 'Francis Ford Coppola': 1,\n",
       " 'Milos Forman': 2,\n",
       " 'John G. Avildsen': 1,\n",
       " 'Woody Allen': 1,\n",
       " 'Michael Cimino': 1,\n",
       " 'Robert Benton': 1,\n",
       " 'Robert Redford': 1,\n",
       " 'Warren Beatty': 1,\n",
       " 'Richard Attenborough': 1,\n",
       " 'James L. Brooks': 1,\n",
       " 'Sydney Pollack': 1,\n",
       " 'Oliver Stone': 2,\n",
       " 'Bernardo Bertolucci': 1,\n",
       " 'Barry Levinson': 1,\n",
       " 'Kevin Costner': 1,\n",
       " 'Jonathan Demme': 1,\n",
       " 'Clint Eastwood': 2,\n",
       " 'Steven Spielberg': 2,\n",
       " 'Robert Zemeckis': 1,\n",
       " 'Mel Gibson': 1,\n",
       " 'Anthony Minghella': 1,\n",
       " 'James Cameron': 1,\n",
       " 'Sam Mendes': 1,\n",
       " 'Steven Soderbergh': 1,\n",
       " 'Ron Howard': 1,\n",
       " 'Roman Polanski': 1,\n",
       " 'Peter Jackson': 1,\n",
       " 'Ang Lee': 1,\n",
       " 'Martin Scorsese': 1,\n",
       " 'Ethan Coen': 1,\n",
       " 'Joel Coen': 1,\n",
       " 'Danny Boyle': 1,\n",
       " 'Kathryn Bigelow': 1,\n",
       " 'Tom Hooper': 1}"
      ]
     },
     "execution_count": 7,
     "metadata": {},
     "output_type": "execute_result"
    }
   ],
   "source": [
    "win_count_dict = {}\n",
    "win_list = list()\n",
    "for year in winners:\n",
    "    for i in range(len(winners[year])):\n",
    "        win_list.append(winners[year][i])\n",
    "\n",
    "for i in win_list:\n",
    "    win_count_dict[i] = win_count_dict.get(i,0)+1\n",
    "win_count_dict"
   ]
  },
  {
   "cell_type": "code",
   "execution_count": 8,
   "id": "detected-museum",
   "metadata": {},
   "outputs": [
    {
     "name": "stdout",
     "output_type": "stream",
     "text": [
      "4\n"
     ]
    }
   ],
   "source": [
    "max = 0\n",
    "for k in win_count_dict:\n",
    "    if win_count_dict[k]> max:\n",
    "        max = win_count_dict[k]\n",
    "print(max)"
   ]
  },
  {
   "cell_type": "code",
   "execution_count": 9,
   "id": "green-smell",
   "metadata": {},
   "outputs": [
    {
     "data": {
      "text/plain": [
       "['John Ford']"
      ]
     },
     "execution_count": 9,
     "metadata": {},
     "output_type": "execute_result"
    }
   ],
   "source": [
    "top = list()\n",
    "for k in win_count_dict:\n",
    "    if win_count_dict[k] == max:\n",
    "        top.append(k)\n",
    "top"
   ]
  },
  {
   "cell_type": "code",
   "execution_count": 10,
   "id": "configured-lyric",
   "metadata": {},
   "outputs": [
    {
     "name": "stdout",
     "output_type": "stream",
     "text": [
      "10\n",
      "1370370359.0\n"
     ]
    }
   ],
   "source": [
    "n = input()\n",
    "n = int(n)\n",
    "a = n\n",
    "b = 0\n",
    "while a > 0:\n",
    "    if a < 10:\n",
    "        b += a*10**(n-a) \n",
    "    if a < 100:\n",
    "        b +=a*10**(n-a-1)\n",
    "    if a < 1000:\n",
    "        b +=a*10**(n-a-2)\n",
    "    a-=1\n",
    "print(b)"
   ]
  },
  {
   "cell_type": "code",
   "execution_count": 11,
   "id": "reduced-hands",
   "metadata": {},
   "outputs": [
    {
     "name": "stdout",
     "output_type": "stream",
     "text": [
      "1\n",
      "1\n"
     ]
    }
   ],
   "source": [
    "n = input()\n",
    "n = int(n)\n",
    "a = n\n",
    "for i in range(1,n+1,1):\n",
    "    print(i)\n",
    "    "
   ]
  },
  {
   "cell_type": "code",
   "execution_count": 12,
   "id": "constitutional-november",
   "metadata": {},
   "outputs": [
    {
     "name": "stdout",
     "output_type": "stream",
     "text": [
      "1\n"
     ]
    },
    {
     "data": {
      "text/plain": [
       "1"
      ]
     },
     "execution_count": 12,
     "metadata": {},
     "output_type": "execute_result"
    }
   ],
   "source": [
    "n = input()\n",
    "n = int(n)\n",
    "if n < 10:\n",
    "    pos = n\n",
    "elif n < 100:\n",
    "    pos = n + n-9\n",
    "elif n < 1000:\n",
    "    pos = n + 91 +2*(n-100)  \n",
    "pos"
   ]
  },
  {
   "cell_type": "code",
   "execution_count": 13,
   "id": "casual-kidney",
   "metadata": {},
   "outputs": [
    {
     "name": "stdout",
     "output_type": "stream",
     "text": [
      "1\n",
      "\n"
     ]
    }
   ],
   "source": [
    "n = input()\n",
    "n = int(n)\n",
    "print()"
   ]
  },
  {
   "cell_type": "code",
   "execution_count": 14,
   "id": "modified-information",
   "metadata": {},
   "outputs": [
    {
     "name": "stdout",
     "output_type": "stream",
     "text": [
      "12\n"
     ]
    }
   ],
   "source": [
    "a = 1\n",
    "b = 2\n",
    "a = str(a)\n",
    "b = str(b)\n",
    "print(a+b)"
   ]
  },
  {
   "cell_type": "code",
   "execution_count": 15,
   "id": "unusual-matter",
   "metadata": {},
   "outputs": [
    {
     "name": "stdout",
     "output_type": "stream",
     "text": [
      "1\n",
      "1\n"
     ]
    }
   ],
   "source": [
    "n = input()\n",
    "n = int(n)\n",
    "a = 1\n",
    "b = str()\n",
    "while a <= n:\n",
    "    b += str(a)\n",
    "    a+=1\n",
    "print(b)"
   ]
  },
  {
   "cell_type": "markdown",
   "id": "agricultural-rwanda",
   "metadata": {},
   "source": [
    "## Numpy"
   ]
  },
  {
   "cell_type": "code",
   "execution_count": 16,
   "id": "touched-retail",
   "metadata": {},
   "outputs": [],
   "source": [
    "import numpy as np\n",
    "x = np.array([1,2,3,4])"
   ]
  },
  {
   "cell_type": "code",
   "execution_count": 17,
   "id": "gross-grammar",
   "metadata": {},
   "outputs": [
    {
     "name": "stdout",
     "output_type": "stream",
     "text": [
      "[1 2 3 4]\n",
      "<class 'numpy.ndarray'>\n"
     ]
    }
   ],
   "source": [
    "print(x)\n",
    "print(type(x))"
   ]
  },
  {
   "cell_type": "code",
   "execution_count": 18,
   "id": "physical-rotation",
   "metadata": {},
   "outputs": [
    {
     "data": {
      "text/plain": [
       "dtype('int32')"
      ]
     },
     "execution_count": 18,
     "metadata": {},
     "output_type": "execute_result"
    }
   ],
   "source": [
    "x.dtype"
   ]
  },
  {
   "cell_type": "code",
   "execution_count": 19,
   "id": "meaningful-possession",
   "metadata": {},
   "outputs": [
    {
     "data": {
      "text/plain": [
       "(4,)"
      ]
     },
     "execution_count": 19,
     "metadata": {},
     "output_type": "execute_result"
    }
   ],
   "source": [
    "x.shape"
   ]
  },
  {
   "cell_type": "code",
   "execution_count": 20,
   "id": "honey-diversity",
   "metadata": {},
   "outputs": [
    {
     "name": "stdout",
     "output_type": "stream",
     "text": [
      "[[ 1  2  3]\n",
      " [ 4  5  6]\n",
      " [ 7  8  9]\n",
      " [10 11 12]]\n",
      "<class 'numpy.ndarray'>\n",
      "int32\n",
      "(4, 3)\n",
      "12\n"
     ]
    }
   ],
   "source": [
    "Y = np.array([[1,2,3], [4,5,6],[7,8,9],[10,11,12]])\n",
    "print(Y)\n",
    "print(type(Y))\n",
    "print(Y.dtype)\n",
    "print(Y.shape)\n",
    "print(Y.size)"
   ]
  },
  {
   "cell_type": "code",
   "execution_count": 21,
   "id": "threaded-bachelor",
   "metadata": {},
   "outputs": [
    {
     "name": "stdout",
     "output_type": "stream",
     "text": [
      "<class 'numpy.ndarray'>\n",
      "<U4\n",
      "(2,)\n",
      "2\n"
     ]
    }
   ],
   "source": [
    "S = np.array([\"str1\", \"str2\"])\n",
    "print(type(S))\n",
    "print(S.dtype)\n",
    "print(S.shape)\n",
    "print(S.size)"
   ]
  },
  {
   "cell_type": "code",
   "execution_count": 22,
   "id": "healthy-junior",
   "metadata": {},
   "outputs": [
    {
     "name": "stdout",
     "output_type": "stream",
     "text": [
      "<class 'numpy.ndarray'>\n",
      "<U4\n",
      "(4,)\n",
      "4\n"
     ]
    }
   ],
   "source": [
    "S = np.array([\"str1\", \"str2\", 2, 3])\n",
    "print(type(S))\n",
    "print(S.dtype)\n",
    "print(S.shape)\n",
    "print(S.size)"
   ]
  },
  {
   "cell_type": "code",
   "execution_count": 23,
   "id": "incoming-values",
   "metadata": {},
   "outputs": [
    {
     "name": "stdout",
     "output_type": "stream",
     "text": [
      "<class 'numpy.ndarray'>\n",
      "float64\n",
      "(4,)\n",
      "4\n"
     ]
    }
   ],
   "source": [
    "S = np.array([1.25, 4.566, 2, 3])\n",
    "print(type(S))\n",
    "print(S.dtype)\n",
    "print(S.shape)\n",
    "print(S.size)"
   ]
  },
  {
   "cell_type": "code",
   "execution_count": 24,
   "id": "three-robert",
   "metadata": {},
   "outputs": [
    {
     "name": "stdout",
     "output_type": "stream",
     "text": [
      "[1 4 2 3]\n",
      "<class 'numpy.ndarray'>\n",
      "int64\n",
      "(4,)\n",
      "4\n"
     ]
    }
   ],
   "source": [
    "S = np.array([1.25, 4.566, 2, 3], dtype=np.int64)\n",
    "print(S)\n",
    "print(type(S))\n",
    "print(S.dtype)\n",
    "print(S.shape)\n",
    "print(S.size)"
   ]
  },
  {
   "cell_type": "code",
   "execution_count": 25,
   "id": "through-cologne",
   "metadata": {},
   "outputs": [],
   "source": [
    "np.save(\"my array\", S)"
   ]
  },
  {
   "cell_type": "code",
   "execution_count": 26,
   "id": "diagnostic-cornwall",
   "metadata": {},
   "outputs": [
    {
     "name": "stdout",
     "output_type": "stream",
     "text": [
      "[1 4 2 3]\n"
     ]
    }
   ],
   "source": [
    "u = np.load(\"my array.npy\")\n",
    "print(u)"
   ]
  },
  {
   "cell_type": "code",
   "execution_count": 27,
   "id": "suspected-worth",
   "metadata": {},
   "outputs": [
    {
     "name": "stdout",
     "output_type": "stream",
     "text": [
      "int32\n"
     ]
    },
    {
     "data": {
      "text/plain": [
       "array([[0, 0, 0, 0],\n",
       "       [0, 0, 0, 0],\n",
       "       [0, 0, 0, 0]])"
      ]
     },
     "execution_count": 27,
     "metadata": {},
     "output_type": "execute_result"
    }
   ],
   "source": [
    "X = np.zeros([3,4], dtype = int)\n",
    "print(X.dtype)\n",
    "X"
   ]
  },
  {
   "cell_type": "code",
   "execution_count": 28,
   "id": "athletic-butler",
   "metadata": {},
   "outputs": [
    {
     "name": "stdout",
     "output_type": "stream",
     "text": [
      "float64\n"
     ]
    },
    {
     "data": {
      "text/plain": [
       "array([[1., 1., 1., 1.],\n",
       "       [1., 1., 1., 1.],\n",
       "       [1., 1., 1., 1.]])"
      ]
     },
     "execution_count": 28,
     "metadata": {},
     "output_type": "execute_result"
    }
   ],
   "source": [
    "X = np.ones([3,4])\n",
    "print(X.dtype)\n",
    "X"
   ]
  },
  {
   "cell_type": "code",
   "execution_count": 29,
   "id": "lesbian-composer",
   "metadata": {},
   "outputs": [
    {
     "name": "stdout",
     "output_type": "stream",
     "text": [
      "[[5 5 5 5]\n",
      " [5 5 5 5]\n",
      " [5 5 5 5]]\n"
     ]
    }
   ],
   "source": [
    "X = np.full([3,4],5)\n",
    "print(X)"
   ]
  },
  {
   "cell_type": "code",
   "execution_count": 30,
   "id": "terminal-analysis",
   "metadata": {},
   "outputs": [
    {
     "data": {
      "text/plain": [
       "array([[1., 0., 0., 0., 0.],\n",
       "       [0., 1., 0., 0., 0.],\n",
       "       [0., 0., 1., 0., 0.],\n",
       "       [0., 0., 0., 1., 0.],\n",
       "       [0., 0., 0., 0., 1.]])"
      ]
     },
     "execution_count": 30,
     "metadata": {},
     "output_type": "execute_result"
    }
   ],
   "source": [
    "X = np.eye(5)\n",
    "X"
   ]
  },
  {
   "cell_type": "code",
   "execution_count": 31,
   "id": "smart-activity",
   "metadata": {},
   "outputs": [
    {
     "data": {
      "text/plain": [
       "array([[1, 0, 0, 0, 0],\n",
       "       [0, 2, 0, 0, 0],\n",
       "       [0, 0, 3, 0, 0],\n",
       "       [0, 0, 0, 4, 0],\n",
       "       [0, 0, 0, 0, 5]])"
      ]
     },
     "execution_count": 31,
     "metadata": {},
     "output_type": "execute_result"
    }
   ],
   "source": [
    "X = np.diag([1,2,3,4,5])\n",
    "X"
   ]
  },
  {
   "cell_type": "code",
   "execution_count": 32,
   "id": "metallic-planner",
   "metadata": {},
   "outputs": [
    {
     "data": {
      "text/plain": [
       "array([2.  , 3.25, 4.5 , 5.75, 7.  ])"
      ]
     },
     "execution_count": 32,
     "metadata": {},
     "output_type": "execute_result"
    }
   ],
   "source": [
    "X = np.arange(2,8,1.25)\n",
    "X"
   ]
  },
  {
   "cell_type": "code",
   "execution_count": 33,
   "id": "northern-savannah",
   "metadata": {},
   "outputs": [
    {
     "data": {
      "text/plain": [
       "array([0, 1, 2, 3, 4, 5, 6, 7, 8, 9])"
      ]
     },
     "execution_count": 33,
     "metadata": {},
     "output_type": "execute_result"
    }
   ],
   "source": [
    "X = np.arange(10)\n",
    "X"
   ]
  },
  {
   "cell_type": "code",
   "execution_count": 34,
   "id": "crazy-memphis",
   "metadata": {},
   "outputs": [
    {
     "data": {
      "text/plain": [
       "array([2, 3, 4, 5])"
      ]
     },
     "execution_count": 34,
     "metadata": {},
     "output_type": "execute_result"
    }
   ],
   "source": [
    "X = np.arange(2,6)\n",
    "X"
   ]
  },
  {
   "cell_type": "code",
   "execution_count": 35,
   "id": "upper-spell",
   "metadata": {},
   "outputs": [
    {
     "data": {
      "text/plain": [
       "array([ 0.        ,  2.77777778,  5.55555556,  8.33333333, 11.11111111,\n",
       "       13.88888889, 16.66666667, 19.44444444, 22.22222222, 25.        ])"
      ]
     },
     "execution_count": 35,
     "metadata": {},
     "output_type": "execute_result"
    }
   ],
   "source": [
    "X = np.linspace(0,25,10)\n",
    "X"
   ]
  },
  {
   "cell_type": "code",
   "execution_count": 36,
   "id": "ahead-jumping",
   "metadata": {},
   "outputs": [
    {
     "data": {
      "text/plain": [
       "array([ 0. ,  2.5,  5. ,  7.5, 10. , 12.5, 15. , 17.5, 20. , 22.5])"
      ]
     },
     "execution_count": 36,
     "metadata": {},
     "output_type": "execute_result"
    }
   ],
   "source": [
    "X = np.linspace(0,25,10, endpoint = False)\n",
    "X"
   ]
  },
  {
   "cell_type": "code",
   "execution_count": 37,
   "id": "consolidated-croatia",
   "metadata": {},
   "outputs": [
    {
     "data": {
      "text/plain": [
       "array([ 0,  1,  2,  3,  4,  5,  6,  7,  8,  9, 10, 11, 12, 13, 14, 15, 16,\n",
       "       17, 18, 19])"
      ]
     },
     "execution_count": 37,
     "metadata": {},
     "output_type": "execute_result"
    }
   ],
   "source": [
    "x = np.arange(0,20,1)\n",
    "x"
   ]
  },
  {
   "cell_type": "code",
   "execution_count": 38,
   "id": "dramatic-throat",
   "metadata": {},
   "outputs": [
    {
     "data": {
      "text/plain": [
       "array([[ 0,  1],\n",
       "       [ 2,  3],\n",
       "       [ 4,  5],\n",
       "       [ 6,  7],\n",
       "       [ 8,  9],\n",
       "       [10, 11],\n",
       "       [12, 13],\n",
       "       [14, 15],\n",
       "       [16, 17],\n",
       "       [18, 19]])"
      ]
     },
     "execution_count": 38,
     "metadata": {},
     "output_type": "execute_result"
    }
   ],
   "source": [
    "X = np.reshape(x, (10,2))\n",
    "X"
   ]
  },
  {
   "cell_type": "code",
   "execution_count": 39,
   "id": "together-desperate",
   "metadata": {},
   "outputs": [
    {
     "data": {
      "text/plain": [
       "array([[ 0,  1],\n",
       "       [ 2,  3],\n",
       "       [ 4,  5],\n",
       "       [ 6,  7],\n",
       "       [ 8,  9],\n",
       "       [10, 11],\n",
       "       [12, 13],\n",
       "       [14, 15],\n",
       "       [16, 17],\n",
       "       [18, 19]])"
      ]
     },
     "execution_count": 39,
     "metadata": {},
     "output_type": "execute_result"
    }
   ],
   "source": [
    "X = np.arange(20).reshape(10,2)\n",
    "X"
   ]
  },
  {
   "cell_type": "code",
   "execution_count": 40,
   "id": "modular-significance",
   "metadata": {},
   "outputs": [
    {
     "data": {
      "text/plain": [
       "array([[ 0.,  1.,  2.,  3.,  4.],\n",
       "       [ 5.,  6.,  7.,  8.,  9.],\n",
       "       [10., 11., 12., 13., 14.],\n",
       "       [15., 16., 17., 18., 19.]])"
      ]
     },
     "execution_count": 40,
     "metadata": {},
     "output_type": "execute_result"
    }
   ],
   "source": [
    "X = np.linspace(0,20,20, endpoint = False).reshape(4,5)\n",
    "X"
   ]
  },
  {
   "cell_type": "code",
   "execution_count": 41,
   "id": "aquatic-prince",
   "metadata": {},
   "outputs": [
    {
     "data": {
      "text/plain": [
       "array([[0.3130044 , 0.35043954, 0.33169789],\n",
       "       [0.12163205, 0.66471175, 0.98147943],\n",
       "       [0.29598757, 0.53807183, 0.19805414]])"
      ]
     },
     "execution_count": 41,
     "metadata": {},
     "output_type": "execute_result"
    }
   ],
   "source": [
    "X = np.random.random((3,3)) #np.random to access the module, .random to access the function\n",
    "X"
   ]
  },
  {
   "cell_type": "code",
   "execution_count": 42,
   "id": "about-spain",
   "metadata": {},
   "outputs": [
    {
     "data": {
      "text/plain": [
       "array([[4, 3, 5, 1],\n",
       "       [2, 4, 5, 9],\n",
       "       [8, 6, 5, 8],\n",
       "       [3, 2, 7, 2]])"
      ]
     },
     "execution_count": 42,
     "metadata": {},
     "output_type": "execute_result"
    }
   ],
   "source": [
    "X = np.random.randint(1,10,(4,4))\n",
    "X"
   ]
  },
  {
   "cell_type": "code",
   "execution_count": 43,
   "id": "silent-substitute",
   "metadata": {},
   "outputs": [
    {
     "data": {
      "text/plain": [
       "array([[-0.01792683, -0.07392618, -0.09237562, ...,  0.09747361,\n",
       "        -0.00489632,  0.15747434],\n",
       "       [ 0.06409596,  0.02602029, -0.06473626, ..., -0.08596867,\n",
       "         0.0540813 ,  0.20185904],\n",
       "       [ 0.06101936,  0.01383945,  0.02465785, ...,  0.15599   ,\n",
       "         0.12023306,  0.15336109],\n",
       "       ...,\n",
       "       [ 0.12682087, -0.08413637, -0.19436234, ..., -0.03334482,\n",
       "        -0.0236712 , -0.09678571],\n",
       "       [-0.00941279, -0.21154018,  0.21834567, ..., -0.08120287,\n",
       "         0.0367963 , -0.03405743],\n",
       "       [ 0.06750495,  0.02424535,  0.01868412, ..., -0.1750401 ,\n",
       "        -0.01278848, -0.36572133]])"
      ]
     },
     "execution_count": 43,
     "metadata": {},
     "output_type": "execute_result"
    }
   ],
   "source": [
    "X = np.random.normal(0,0.1,size = (1000,1000))\n",
    "X"
   ]
  },
  {
   "cell_type": "code",
   "execution_count": 44,
   "id": "central-immigration",
   "metadata": {},
   "outputs": [
    {
     "name": "stdout",
     "output_type": "stream",
     "text": [
      "Xmean -8.569955049844974e-05\n",
      "std 0.10000067639999492\n",
      "max 0.5108737272384357\n",
      "min -0.5401733648526269\n",
      "positive 499726\n",
      "negative 500274\n"
     ]
    }
   ],
   "source": [
    "print('Xmean', X.mean())\n",
    "print('std', X.std())\n",
    "print('max', X.max())\n",
    "print('min', X.min())\n",
    "print('positive', (X>0).sum())\n",
    "print('negative', (X<0).sum())"
   ]
  },
  {
   "cell_type": "code",
   "execution_count": 45,
   "id": "lyric-travel",
   "metadata": {},
   "outputs": [
    {
     "name": "stdout",
     "output_type": "stream",
     "text": [
      "first 1\n",
      "second 2\n",
      "last 5\n"
     ]
    }
   ],
   "source": [
    "x = np.array([1,2,3,4,5])\n",
    "print('first', x[0])\n",
    "print('second', x[1])\n",
    "print('last', x[-1])"
   ]
  },
  {
   "cell_type": "code",
   "execution_count": 46,
   "id": "adequate-begin",
   "metadata": {},
   "outputs": [
    {
     "name": "stdout",
     "output_type": "stream",
     "text": [
      "[ 1  2  3 32  5]\n"
     ]
    }
   ],
   "source": [
    "x[3] = 32\n",
    "print(x)"
   ]
  },
  {
   "cell_type": "code",
   "execution_count": 47,
   "id": "synthetic-malawi",
   "metadata": {},
   "outputs": [
    {
     "data": {
      "text/plain": [
       "array([[0, 1],\n",
       "       [2, 3],\n",
       "       [4, 5],\n",
       "       [6, 7],\n",
       "       [8, 9]])"
      ]
     },
     "execution_count": 47,
     "metadata": {},
     "output_type": "execute_result"
    }
   ],
   "source": [
    "X = np.arange(0,10,1).reshape(5,2)\n",
    "X"
   ]
  },
  {
   "cell_type": "code",
   "execution_count": 48,
   "id": "exempt-daily",
   "metadata": {},
   "outputs": [
    {
     "name": "stdout",
     "output_type": "stream",
     "text": [
      "0,0 0\n",
      "3,1 7\n",
      "1,1 3\n"
     ]
    }
   ],
   "source": [
    "print('0,0', X[0,0])\n",
    "print('3,1', X[3,1])\n",
    "print('1,1', X[1,1])"
   ]
  },
  {
   "cell_type": "code",
   "execution_count": 49,
   "id": "knowing-arrival",
   "metadata": {},
   "outputs": [
    {
     "name": "stdout",
     "output_type": "stream",
     "text": [
      "[[90  1]\n",
      " [ 2  3]\n",
      " [ 4  5]\n",
      " [ 6  7]\n",
      " [ 8  9]]\n"
     ]
    }
   ],
   "source": [
    "X[0,0] = 90\n",
    "print(X)"
   ]
  },
  {
   "cell_type": "code",
   "execution_count": 50,
   "id": "reasonable-works",
   "metadata": {},
   "outputs": [
    {
     "name": "stdout",
     "output_type": "stream",
     "text": [
      "[1 2 3 4 5]\n",
      "[2 3 4]\n"
     ]
    }
   ],
   "source": [
    "x = np.array([1,2,3,4,5])\n",
    "print(x)\n",
    "x = np.delete(x, [0,4])\n",
    "print(x)"
   ]
  },
  {
   "cell_type": "code",
   "execution_count": 51,
   "id": "infectious-column",
   "metadata": {},
   "outputs": [
    {
     "name": "stdout",
     "output_type": "stream",
     "text": [
      "[[0 1]\n",
      " [2 3]\n",
      " [4 5]]\n",
      "[[2 3]\n",
      " [4 5]]\n",
      "[[0 1]\n",
      " [4 5]]\n",
      "[[1]\n",
      " [3]\n",
      " [5]]\n",
      "[[0]\n",
      " [2]\n",
      " [4]]\n",
      "[[2 3]]\n"
     ]
    }
   ],
   "source": [
    "X = np.arange(0,6,1).reshape(3,2)\n",
    "print(X)\n",
    "M = np.delete(X, 0, axis = 0)\n",
    "print(M)\n",
    "N = np.delete(X, 1, axis = 0)\n",
    "print(N)\n",
    "O = np.delete(X, 0, axis = 1)\n",
    "print(O)\n",
    "P = np.delete(X, 1, axis = 1)\n",
    "print(P)\n",
    "U = np.delete(X, [0,2], axis = 0)\n",
    "print(U)"
   ]
  },
  {
   "cell_type": "code",
   "execution_count": 52,
   "id": "sudden-canal",
   "metadata": {},
   "outputs": [
    {
     "name": "stdout",
     "output_type": "stream",
     "text": [
      "[0 1 2 3 4]\n",
      "[0 1 2 3 4 1 2 3]\n"
     ]
    }
   ],
   "source": [
    "x = np.array((0,1,2,3,4))\n",
    "print(x)\n",
    "list = [1,2,3]\n",
    "x = np.append(x,list)\n",
    "print(x)"
   ]
  },
  {
   "cell_type": "code",
   "execution_count": 53,
   "id": "three-poetry",
   "metadata": {},
   "outputs": [
    {
     "name": "stdout",
     "output_type": "stream",
     "text": [
      "[[0 1]\n",
      " [2 3]\n",
      " [4 1]\n",
      " [2 3]]\n",
      "[[0 1]\n",
      " [2 3]\n",
      " [4 1]\n",
      " [2 3]\n",
      " [1 2]]\n",
      "[[ 0  1 55]\n",
      " [ 2  3 55]\n",
      " [ 4  1 55]\n",
      " [ 2  3 55]\n",
      " [ 1  2 55]]\n"
     ]
    }
   ],
   "source": [
    "X = x.reshape(4,2)\n",
    "print(X)\n",
    "X = np.append(X, [[list[0], list[1]]], axis = 0)\n",
    "print(X)\n",
    "X = np.append(X, [[55],[55],[55],[55],[55]], axis = 1)\n",
    "print(X)"
   ]
  },
  {
   "cell_type": "code",
   "execution_count": 54,
   "id": "stretch-holiday",
   "metadata": {},
   "outputs": [
    {
     "name": "stdout",
     "output_type": "stream",
     "text": [
      "[1 2 3 4 5]\n",
      "[ 1  2 22 22  3  4  5]\n"
     ]
    }
   ],
   "source": [
    "x = np.array([1,2,3,4,5])\n",
    "print(x)\n",
    "x = np.insert(x,2,[22,22])\n",
    "print(x)"
   ]
  },
  {
   "cell_type": "code",
   "execution_count": 55,
   "id": "breathing-consultation",
   "metadata": {},
   "outputs": [
    {
     "name": "stdout",
     "output_type": "stream",
     "text": [
      "[[ 0  1 55]\n",
      " [11 11 11]\n",
      " [ 2  3 55]\n",
      " [ 4  1 55]\n",
      " [ 2  3 55]\n",
      " [ 1  2 55]]\n"
     ]
    }
   ],
   "source": [
    "X = np.insert(X, 1, [11,11,11], axis = 0)\n",
    "print(X)"
   ]
  },
  {
   "cell_type": "code",
   "execution_count": 56,
   "id": "pregnant-whole",
   "metadata": {},
   "outputs": [
    {
     "name": "stdout",
     "output_type": "stream",
     "text": [
      "[[33 33 33 33 33  0  1 55]\n",
      " [33 33 33 33 33 11 11 11]\n",
      " [33 33 33 33 33  2  3 55]\n",
      " [33 33 33 33 33  4  1 55]\n",
      " [33 33 33 33 33  2  3 55]\n",
      " [33 33 33 33 33  1  2 55]]\n"
     ]
    }
   ],
   "source": [
    "X = np.insert(X, 0, [[33], [33], [33], [33], [33]], axis = 1)\n",
    "print(X)"
   ]
  },
  {
   "cell_type": "code",
   "execution_count": 57,
   "id": "crude-moral",
   "metadata": {},
   "outputs": [
    {
     "name": "stdout",
     "output_type": "stream",
     "text": [
      "[[33 33 33 33 33 33  0  1 55]\n",
      " [33 33 33 33 33 33 11 11 11]\n",
      " [33 33 33 33 33 33  2  3 55]\n",
      " [33 33 33 33 33 33  4  1 55]\n",
      " [33 33 33 33 33 33  2  3 55]\n",
      " [33 33 33 33 33 33  1  2 55]]\n"
     ]
    }
   ],
   "source": [
    "X = np.insert(X, 0, [33], axis = 1)\n",
    "print(X)"
   ]
  },
  {
   "cell_type": "code",
   "execution_count": 58,
   "id": "original-vinyl",
   "metadata": {},
   "outputs": [
    {
     "data": {
      "text/plain": [
       "array([[1, 2],\n",
       "       [3, 4]])"
      ]
     },
     "execution_count": 58,
     "metadata": {},
     "output_type": "execute_result"
    }
   ],
   "source": [
    "x = np.array([[1,2], [3,4]])\n",
    "x"
   ]
  },
  {
   "cell_type": "code",
   "execution_count": 59,
   "id": "dominican-leone",
   "metadata": {},
   "outputs": [
    {
     "data": {
      "text/plain": [
       "array([9, 9])"
      ]
     },
     "execution_count": 59,
     "metadata": {},
     "output_type": "execute_result"
    }
   ],
   "source": [
    "y = np.array([9,9])\n",
    "y"
   ]
  },
  {
   "cell_type": "code",
   "execution_count": 60,
   "id": "proud-jaguar",
   "metadata": {},
   "outputs": [
    {
     "data": {
      "text/plain": [
       "array([[1, 2],\n",
       "       [3, 4],\n",
       "       [9, 9]])"
      ]
     },
     "execution_count": 60,
     "metadata": {},
     "output_type": "execute_result"
    }
   ],
   "source": [
    "T = np.vstack((x,y))\n",
    "T"
   ]
  },
  {
   "cell_type": "code",
   "execution_count": 61,
   "id": "satisfied-oxide",
   "metadata": {},
   "outputs": [
    {
     "data": {
      "text/plain": [
       "array([[9],\n",
       "       [9]])"
      ]
     },
     "execution_count": 61,
     "metadata": {},
     "output_type": "execute_result"
    }
   ],
   "source": [
    "v = np.reshape(y,(2,1))\n",
    "v"
   ]
  },
  {
   "cell_type": "code",
   "execution_count": 62,
   "id": "cordless-place",
   "metadata": {},
   "outputs": [
    {
     "data": {
      "text/plain": [
       "array([[1, 2, 9],\n",
       "       [3, 4, 9]])"
      ]
     },
     "execution_count": 62,
     "metadata": {},
     "output_type": "execute_result"
    }
   ],
   "source": [
    "i = np.hstack((x,v))\n",
    "i"
   ]
  },
  {
   "cell_type": "code",
   "execution_count": 63,
   "id": "adopted-system",
   "metadata": {},
   "outputs": [
    {
     "name": "stdout",
     "output_type": "stream",
     "text": [
      "[[ 1  2  3  4  5]\n",
      " [ 6  7  8  9 10]\n",
      " [11 12 13 14 15]\n",
      " [16 17 18 19 20]]\n"
     ]
    }
   ],
   "source": [
    "X = np.arange(1,21).reshape(4,5)\n",
    "print(X)"
   ]
  },
  {
   "cell_type": "code",
   "execution_count": 64,
   "id": "interstate-little",
   "metadata": {},
   "outputs": [
    {
     "data": {
      "text/plain": [
       "array([[ 8,  9, 10],\n",
       "       [13, 14, 15],\n",
       "       [18, 19, 20]])"
      ]
     },
     "execution_count": 64,
     "metadata": {},
     "output_type": "execute_result"
    }
   ],
   "source": [
    "X[1:4, 2:5]"
   ]
  },
  {
   "cell_type": "code",
   "execution_count": 65,
   "id": "sporting-light",
   "metadata": {},
   "outputs": [
    {
     "data": {
      "text/plain": [
       "array([[ 8,  9, 10],\n",
       "       [13, 14, 15],\n",
       "       [18, 19, 20]])"
      ]
     },
     "execution_count": 65,
     "metadata": {},
     "output_type": "execute_result"
    }
   ],
   "source": [
    "X[1:, 2:]"
   ]
  },
  {
   "cell_type": "code",
   "execution_count": 66,
   "id": "structural-agreement",
   "metadata": {},
   "outputs": [
    {
     "data": {
      "text/plain": [
       "array([[ 3,  4,  5],\n",
       "       [ 8,  9, 10],\n",
       "       [13, 14, 15]])"
      ]
     },
     "execution_count": 66,
     "metadata": {},
     "output_type": "execute_result"
    }
   ],
   "source": [
    "X[:3,2:]"
   ]
  },
  {
   "cell_type": "code",
   "execution_count": 67,
   "id": "together-reynolds",
   "metadata": {},
   "outputs": [
    {
     "data": {
      "text/plain": [
       "array([11, 12, 13, 14, 15])"
      ]
     },
     "execution_count": 67,
     "metadata": {},
     "output_type": "execute_result"
    }
   ],
   "source": [
    "X[2]"
   ]
  },
  {
   "cell_type": "code",
   "execution_count": 68,
   "id": "dominant-divorce",
   "metadata": {},
   "outputs": [
    {
     "data": {
      "text/plain": [
       "array([ 3,  8, 13, 18])"
      ]
     },
     "execution_count": 68,
     "metadata": {},
     "output_type": "execute_result"
    }
   ],
   "source": [
    "X[:,2]"
   ]
  },
  {
   "cell_type": "code",
   "execution_count": 69,
   "id": "monthly-digest",
   "metadata": {},
   "outputs": [
    {
     "data": {
      "text/plain": [
       "array([[ 3,  8],\n",
       "       [13, 18]])"
      ]
     },
     "execution_count": 69,
     "metadata": {},
     "output_type": "execute_result"
    }
   ],
   "source": [
    "X[:,2].reshape(2,2)"
   ]
  },
  {
   "cell_type": "code",
   "execution_count": 70,
   "id": "increased-viewer",
   "metadata": {},
   "outputs": [
    {
     "data": {
      "text/plain": [
       "array([[ 3],\n",
       "       [ 8],\n",
       "       [13],\n",
       "       [18]])"
      ]
     },
     "execution_count": 70,
     "metadata": {},
     "output_type": "execute_result"
    }
   ],
   "source": [
    "X[:,2:3]"
   ]
  },
  {
   "cell_type": "code",
   "execution_count": 71,
   "id": "southeast-establishment",
   "metadata": {},
   "outputs": [
    {
     "data": {
      "text/plain": [
       "array([[    1,     2, 10000,     4,     5],\n",
       "       [    6,     7,     8,     9,    10],\n",
       "       [   11,    12,    13,    14,    15],\n",
       "       [   16,    17,    18,    19,    20]])"
      ]
     },
     "execution_count": 71,
     "metadata": {},
     "output_type": "execute_result"
    }
   ],
   "source": [
    "z = X[:,2:3]\n",
    "z[0,0] = 10000\n",
    "X"
   ]
  },
  {
   "cell_type": "code",
   "execution_count": 72,
   "id": "statutory-collection",
   "metadata": {},
   "outputs": [
    {
     "name": "stdout",
     "output_type": "stream",
     "text": [
      "[[ 3]\n",
      " [ 8]\n",
      " [13]\n",
      " [18]]\n",
      "[[    1     2 10000     4     5]\n",
      " [    6     7     8     9    10]\n",
      " [   11    12    13    14    15]\n",
      " [   16    17    18    19    20]]\n"
     ]
    }
   ],
   "source": [
    "z = X[:,2:3].copy()\n",
    "z[0,0] = 3\n",
    "print(z)\n",
    "print(X)"
   ]
  },
  {
   "cell_type": "code",
   "execution_count": 73,
   "id": "retained-illness",
   "metadata": {},
   "outputs": [
    {
     "data": {
      "text/plain": [
       "array([ 1,  7, 13, 19])"
      ]
     },
     "execution_count": 73,
     "metadata": {},
     "output_type": "execute_result"
    }
   ],
   "source": [
    "d = np.diag(X)\n",
    "d"
   ]
  },
  {
   "cell_type": "code",
   "execution_count": 74,
   "id": "ancient-theme",
   "metadata": {},
   "outputs": [
    {
     "data": {
      "text/plain": [
       "array([16])"
      ]
     },
     "execution_count": 74,
     "metadata": {},
     "output_type": "execute_result"
    }
   ],
   "source": [
    "d = np.diag(X, k = -3)\n",
    "d"
   ]
  },
  {
   "cell_type": "code",
   "execution_count": 75,
   "id": "stunning-azerbaijan",
   "metadata": {},
   "outputs": [
    {
     "name": "stdout",
     "output_type": "stream",
     "text": [
      "[[1 2 3]\n",
      " [1 2 3]\n",
      " [1 2 3]]\n"
     ]
    }
   ],
   "source": [
    "X = np.array([[1,2,3],[1,2,3],[1,2,3]])\n",
    "print(X)"
   ]
  },
  {
   "cell_type": "code",
   "execution_count": 76,
   "id": "embedded-notion",
   "metadata": {},
   "outputs": [
    {
     "name": "stdout",
     "output_type": "stream",
     "text": [
      "[1 2 3]\n"
     ]
    }
   ],
   "source": [
    "print(np.unique(X))"
   ]
  },
  {
   "cell_type": "code",
   "execution_count": 77,
   "id": "voluntary-captain",
   "metadata": {},
   "outputs": [
    {
     "data": {
      "text/plain": [
       "array([[ 0,  1,  2,  3,  4],\n",
       "       [ 5,  6,  7,  8,  9],\n",
       "       [10, 11, 12, 13, 14],\n",
       "       [15, 16, 17, 18, 19],\n",
       "       [20, 21, 22, 23, 24]])"
      ]
     },
     "execution_count": 77,
     "metadata": {},
     "output_type": "execute_result"
    }
   ],
   "source": [
    "X = np.arange(25).reshape(5,5)\n",
    "X"
   ]
  },
  {
   "cell_type": "code",
   "execution_count": 78,
   "id": "asian-reflection",
   "metadata": {},
   "outputs": [
    {
     "name": "stdout",
     "output_type": "stream",
     "text": [
      "[0 1 2 3 4 5 6]\n"
     ]
    }
   ],
   "source": [
    "print(X[X<7])"
   ]
  },
  {
   "cell_type": "code",
   "execution_count": 79,
   "id": "enormous-result",
   "metadata": {},
   "outputs": [
    {
     "name": "stdout",
     "output_type": "stream",
     "text": [
      "[ 0  1  2  3  4 16 17 18 19 20 21 22 23 24]\n"
     ]
    }
   ],
   "source": [
    "print(X[(X<5)|(X>15)])"
   ]
  },
  {
   "cell_type": "code",
   "execution_count": 80,
   "id": "affected-shopper",
   "metadata": {},
   "outputs": [
    {
     "data": {
      "text/plain": [
       "array([[ 0,  1,  2,  3,  4],\n",
       "       [ 5,  6,  7,  8,  9],\n",
       "       [10, -1, -1, -1, -1],\n",
       "       [15, 16, 17, 18, 19],\n",
       "       [20, 21, 22, 23, 24]])"
      ]
     },
     "execution_count": 80,
     "metadata": {},
     "output_type": "execute_result"
    }
   ],
   "source": [
    "X[(X>10) & (X<15)]=-1\n",
    "X"
   ]
  },
  {
   "cell_type": "code",
   "execution_count": 81,
   "id": "saved-celebrity",
   "metadata": {},
   "outputs": [
    {
     "name": "stdout",
     "output_type": "stream",
     "text": [
      "[2 4]\n",
      "[6 7 8]\n",
      "[1 2 3 4 5 6 7 8]\n"
     ]
    }
   ],
   "source": [
    "y = np.array([1,2,3,4,5])\n",
    "x = np.array([6,7,2,8,4])\n",
    "\n",
    "print(np.intersect1d(x,y))\n",
    "print(np.setdiff1d(x,y))\n",
    "print(np.union1d(x,y))"
   ]
  },
  {
   "cell_type": "code",
   "execution_count": 82,
   "id": "advised-termination",
   "metadata": {},
   "outputs": [
    {
     "data": {
      "text/plain": [
       "array([8, 5, 3, 9, 3, 9, 9, 7, 5, 6])"
      ]
     },
     "execution_count": 82,
     "metadata": {},
     "output_type": "execute_result"
    }
   ],
   "source": [
    "x = np.random.randint(1,11, size = (10,))\n",
    "x"
   ]
  },
  {
   "cell_type": "code",
   "execution_count": 83,
   "id": "coordinated-blast",
   "metadata": {},
   "outputs": [
    {
     "name": "stdout",
     "output_type": "stream",
     "text": [
      "[3 3 5 5 6 7 8 9 9 9]\n"
     ]
    }
   ],
   "source": [
    "print(np.sort(x))"
   ]
  },
  {
   "cell_type": "code",
   "execution_count": 84,
   "id": "periodic-treasure",
   "metadata": {},
   "outputs": [
    {
     "data": {
      "text/plain": [
       "array([3, 3, 5, 5, 6, 7, 8, 9, 9, 9])"
      ]
     },
     "execution_count": 84,
     "metadata": {},
     "output_type": "execute_result"
    }
   ],
   "source": [
    "u = np.sort(x)\n",
    "u"
   ]
  },
  {
   "cell_type": "code",
   "execution_count": 85,
   "id": "located-cisco",
   "metadata": {},
   "outputs": [
    {
     "name": "stdout",
     "output_type": "stream",
     "text": [
      "[50  3  5  5  6  7  8  9  9  9]\n",
      "[8 5 3 9 3 9 9 7 5 6]\n"
     ]
    }
   ],
   "source": [
    "u[0] = 50\n",
    "print(u)\n",
    "print(x)"
   ]
  },
  {
   "cell_type": "code",
   "execution_count": 86,
   "id": "choice-insert",
   "metadata": {},
   "outputs": [
    {
     "name": "stdout",
     "output_type": "stream",
     "text": [
      "[ 3  5  6  7  8  9 50]\n"
     ]
    }
   ],
   "source": [
    "print(np.sort(np.unique(u))) # no afecta a u"
   ]
  },
  {
   "cell_type": "code",
   "execution_count": 87,
   "id": "sharp-boxing",
   "metadata": {},
   "outputs": [
    {
     "name": "stdout",
     "output_type": "stream",
     "text": [
      "[50  3  5  5  6  7  8  9  9  9]\n"
     ]
    }
   ],
   "source": [
    "print(u)"
   ]
  },
  {
   "cell_type": "code",
   "execution_count": 88,
   "id": "driving-retailer",
   "metadata": {},
   "outputs": [
    {
     "data": {
      "text/plain": [
       "array([ 3,  5,  5,  6,  7,  8,  9,  9,  9, 50])"
      ]
     },
     "execution_count": 88,
     "metadata": {},
     "output_type": "execute_result"
    }
   ],
   "source": [
    "u.sort() # si afecta a u\n",
    "u"
   ]
  },
  {
   "cell_type": "code",
   "execution_count": 89,
   "id": "statewide-privilege",
   "metadata": {},
   "outputs": [
    {
     "name": "stdout",
     "output_type": "stream",
     "text": [
      "[[5 7 6 4 1]\n",
      " [3 1 5 1 7]\n",
      " [2 9 6 1 5]\n",
      " [7 7 5 9 6]\n",
      " [3 9 9 4 6]]\n"
     ]
    }
   ],
   "source": [
    "X = np.random.randint(1,11, size=(5,5))\n",
    "print(X)"
   ]
  },
  {
   "cell_type": "code",
   "execution_count": 90,
   "id": "referenced-disposal",
   "metadata": {},
   "outputs": [
    {
     "name": "stdout",
     "output_type": "stream",
     "text": [
      "[[2 1 5 1 1]\n",
      " [3 7 5 1 5]\n",
      " [3 7 6 4 6]\n",
      " [5 9 6 4 6]\n",
      " [7 9 9 9 7]]\n",
      "[[1 4 5 6 7]\n",
      " [1 1 3 5 7]\n",
      " [1 2 5 6 9]\n",
      " [5 6 7 7 9]\n",
      " [3 4 6 9 9]]\n"
     ]
    }
   ],
   "source": [
    "print(np.sort(X,axis = 0))\n",
    "print(np.sort(X, axis = 1))"
   ]
  },
  {
   "cell_type": "code",
   "execution_count": 91,
   "id": "bearing-taste",
   "metadata": {},
   "outputs": [
    {
     "name": "stdout",
     "output_type": "stream",
     "text": [
      "[ 6  8 10 12]\n",
      "[ 6  8 10 12]\n",
      "[-4 -4 -4 -4]\n",
      "[-4 -4 -4 -4]\n",
      "[ 5 12 21 32]\n",
      "[ 5 12 21 32]\n",
      "[0.2        0.33333333 0.42857143 0.5       ]\n",
      "[0.2        0.33333333 0.42857143 0.5       ]\n"
     ]
    }
   ],
   "source": [
    "x = np.array([1,2,3,4])\n",
    "y = np.array([5,6,7,8])\n",
    "print(x+y)\n",
    "print(np.add(x,y))\n",
    "print(x-y)\n",
    "print(np.subtract(x,y))\n",
    "print(x*y)\n",
    "print(np.multiply(x,y))\n",
    "print(x/y)\n",
    "print(np.divide(x,y))"
   ]
  },
  {
   "cell_type": "code",
   "execution_count": 92,
   "id": "clean-tooth",
   "metadata": {},
   "outputs": [
    {
     "name": "stdout",
     "output_type": "stream",
     "text": [
      "[[1 2]\n",
      " [3 4]]\n",
      "[[5 6]\n",
      " [7 8]]\n"
     ]
    }
   ],
   "source": [
    "X = np.reshape(x, (2,2))\n",
    "Y = np.reshape(y, (2,2))\n",
    "print(X)\n",
    "print(Y)"
   ]
  },
  {
   "cell_type": "code",
   "execution_count": 93,
   "id": "rocky-attention",
   "metadata": {},
   "outputs": [
    {
     "name": "stdout",
     "output_type": "stream",
     "text": [
      "[[ 6  8]\n",
      " [10 12]]\n",
      "[[-4 -4]\n",
      " [-4 -4]]\n",
      "[[ 5 12]\n",
      " [21 32]]\n",
      "[[0.2        0.33333333]\n",
      " [0.42857143 0.5       ]]\n"
     ]
    }
   ],
   "source": [
    "print(X+Y)\n",
    "print(X-Y)\n",
    "print(X*Y)\n",
    "print(X/Y)"
   ]
  },
  {
   "cell_type": "code",
   "execution_count": 94,
   "id": "popular-seventh",
   "metadata": {},
   "outputs": [
    {
     "name": "stdout",
     "output_type": "stream",
     "text": [
      "[1.         1.41421356 1.73205081 2.        ]\n",
      "[1 1 1 1]\n",
      "[ 2.71828183  7.3890561  20.08553692 54.59815003]\n"
     ]
    }
   ],
   "source": [
    "print(np.sqrt(x))\n",
    "print(np.power(x,0))\n",
    "print(np.exp(x))"
   ]
  },
  {
   "cell_type": "code",
   "execution_count": 95,
   "id": "surrounded-opposition",
   "metadata": {},
   "outputs": [
    {
     "name": "stdout",
     "output_type": "stream",
     "text": [
      "2.5\n"
     ]
    }
   ],
   "source": [
    "print(X.mean())"
   ]
  },
  {
   "cell_type": "code",
   "execution_count": 96,
   "id": "cooked-theorem",
   "metadata": {},
   "outputs": [
    {
     "name": "stdout",
     "output_type": "stream",
     "text": [
      "1.118033988749895\n"
     ]
    }
   ],
   "source": [
    "print(X.std())"
   ]
  },
  {
   "cell_type": "code",
   "execution_count": 97,
   "id": "first-tracy",
   "metadata": {},
   "outputs": [
    {
     "name": "stdout",
     "output_type": "stream",
     "text": [
      "2.5\n"
     ]
    }
   ],
   "source": [
    "print(np.median(X))"
   ]
  },
  {
   "cell_type": "code",
   "execution_count": 98,
   "id": "satisfactory-machine",
   "metadata": {},
   "outputs": [
    {
     "data": {
      "text/plain": [
       "4"
      ]
     },
     "execution_count": 98,
     "metadata": {},
     "output_type": "execute_result"
    }
   ],
   "source": [
    "X.max()"
   ]
  },
  {
   "cell_type": "code",
   "execution_count": 99,
   "id": "interested-daisy",
   "metadata": {},
   "outputs": [
    {
     "data": {
      "text/plain": [
       "1"
      ]
     },
     "execution_count": 99,
     "metadata": {},
     "output_type": "execute_result"
    }
   ],
   "source": [
    "X.min()"
   ]
  },
  {
   "cell_type": "code",
   "execution_count": 100,
   "id": "sweet-humanity",
   "metadata": {},
   "outputs": [
    {
     "data": {
      "text/plain": [
       "array([[1, 2],\n",
       "       [3, 4]])"
      ]
     },
     "execution_count": 100,
     "metadata": {},
     "output_type": "execute_result"
    }
   ],
   "source": [
    "X"
   ]
  },
  {
   "cell_type": "code",
   "execution_count": 101,
   "id": "purple-dancing",
   "metadata": {},
   "outputs": [
    {
     "data": {
      "text/plain": [
       "10"
      ]
     },
     "execution_count": 101,
     "metadata": {},
     "output_type": "execute_result"
    }
   ],
   "source": [
    "X.sum()"
   ]
  },
  {
   "cell_type": "code",
   "execution_count": 102,
   "id": "demanding-replacement",
   "metadata": {},
   "outputs": [
    {
     "data": {
      "text/plain": [
       "array([4, 6])"
      ]
     },
     "execution_count": 102,
     "metadata": {},
     "output_type": "execute_result"
    }
   ],
   "source": [
    "X.sum(axis=0)"
   ]
  },
  {
   "cell_type": "code",
   "execution_count": 103,
   "id": "increasing-controversy",
   "metadata": {},
   "outputs": [
    {
     "data": {
      "text/plain": [
       "array([3, 7])"
      ]
     },
     "execution_count": 103,
     "metadata": {},
     "output_type": "execute_result"
    }
   ],
   "source": [
    "X.sum(axis=1)"
   ]
  },
  {
   "cell_type": "code",
   "execution_count": 104,
   "id": "figured-piano",
   "metadata": {},
   "outputs": [
    {
     "name": "stdout",
     "output_type": "stream",
     "text": [
      "[[4 5]\n",
      " [6 7]]\n",
      "[[-2 -1]\n",
      " [ 0  1]]\n",
      "[[0.33333333 0.66666667]\n",
      " [1.         1.33333333]]\n",
      "[[ 3  6]\n",
      " [ 9 12]]\n"
     ]
    }
   ],
   "source": [
    "print(X+3)\n",
    "print(X-3)\n",
    "print(X/3)\n",
    "print(X*3)"
   ]
  },
  {
   "cell_type": "code",
   "execution_count": 105,
   "id": "induced-pound",
   "metadata": {},
   "outputs": [
    {
     "data": {
      "text/plain": [
       "array([[1, 2, 3],\n",
       "       [4, 5, 6],\n",
       "       [7, 8, 9]])"
      ]
     },
     "execution_count": 105,
     "metadata": {},
     "output_type": "execute_result"
    }
   ],
   "source": [
    "x = np.array([1,2,3])\n",
    "y = np.arange(1,10,1).reshape(3,3)\n",
    "y"
   ]
  },
  {
   "cell_type": "code",
   "execution_count": 106,
   "id": "elder-prison",
   "metadata": {},
   "outputs": [
    {
     "name": "stdout",
     "output_type": "stream",
     "text": [
      "[[ 2  4  6]\n",
      " [ 5  7  9]\n",
      " [ 8 10 12]]\n"
     ]
    }
   ],
   "source": [
    "print(x+y)"
   ]
  },
  {
   "cell_type": "code",
   "execution_count": 107,
   "id": "optical-stylus",
   "metadata": {},
   "outputs": [
    {
     "name": "stdout",
     "output_type": "stream",
     "text": [
      "[[1]\n",
      " [2]\n",
      " [3]]\n"
     ]
    }
   ],
   "source": [
    "x = x.reshape(3,1)\n",
    "print(x)"
   ]
  },
  {
   "cell_type": "code",
   "execution_count": 108,
   "id": "expressed-internship",
   "metadata": {},
   "outputs": [
    {
     "name": "stdout",
     "output_type": "stream",
     "text": [
      "[[ 2  3  4]\n",
      " [ 6  7  8]\n",
      " [10 11 12]]\n"
     ]
    }
   ],
   "source": [
    "print(x+y)"
   ]
  },
  {
   "cell_type": "code",
   "execution_count": 109,
   "id": "limiting-kansas",
   "metadata": {},
   "outputs": [
    {
     "data": {
      "text/plain": [
       "array([[1., 1., 1., 1.],\n",
       "       [1., 1., 1., 1.],\n",
       "       [1., 1., 1., 1.],\n",
       "       [1., 1., 1., 1.]])"
      ]
     },
     "execution_count": 109,
     "metadata": {},
     "output_type": "execute_result"
    }
   ],
   "source": [
    "X = np.ones((4,4))\n",
    "X"
   ]
  },
  {
   "cell_type": "code",
   "execution_count": 110,
   "id": "arbitrary-technician",
   "metadata": {},
   "outputs": [
    {
     "data": {
      "text/plain": [
       "array([0, 1, 2, 3])"
      ]
     },
     "execution_count": 110,
     "metadata": {},
     "output_type": "execute_result"
    }
   ],
   "source": [
    "Y = np.array((0,1,2,3))\n",
    "Y"
   ]
  },
  {
   "cell_type": "code",
   "execution_count": 111,
   "id": "reverse-fusion",
   "metadata": {},
   "outputs": [
    {
     "name": "stdout",
     "output_type": "stream",
     "text": [
      "[[1. 2. 3. 4.]\n",
      " [1. 2. 3. 4.]\n",
      " [1. 2. 3. 4.]\n",
      " [1. 2. 3. 4.]]\n"
     ]
    }
   ],
   "source": [
    "print(X+Y)"
   ]
  },
  {
   "cell_type": "code",
   "execution_count": 112,
   "id": "final-canberra",
   "metadata": {},
   "outputs": [
    {
     "data": {
      "text/plain": [
       "array([[1., 1., 1., 1.],\n",
       "       [1., 1., 1., 1.],\n",
       "       [1., 1., 1., 1.],\n",
       "       [1., 1., 1., 1.]])"
      ]
     },
     "execution_count": 112,
     "metadata": {},
     "output_type": "execute_result"
    }
   ],
   "source": [
    "X"
   ]
  },
  {
   "cell_type": "code",
   "execution_count": 113,
   "id": "molecular-outreach",
   "metadata": {},
   "outputs": [
    {
     "data": {
      "text/plain": [
       "array([[1., 2., 3., 4.],\n",
       "       [1., 2., 3., 4.],\n",
       "       [1., 2., 3., 4.],\n",
       "       [1., 2., 3., 4.]])"
      ]
     },
     "execution_count": 113,
     "metadata": {},
     "output_type": "execute_result"
    }
   ],
   "source": [
    "X+=Y\n",
    "X"
   ]
  },
  {
   "cell_type": "code",
   "execution_count": 116,
   "id": "featured-regular",
   "metadata": {},
   "outputs": [
    {
     "data": {
      "text/plain": [
       "array([[[1., 2., 3., 4.],\n",
       "        [1., 2., 3., 4.],\n",
       "        [1., 2., 3., 4.],\n",
       "        [1., 2., 3., 4.]]])"
      ]
     },
     "execution_count": 116,
     "metadata": {},
     "output_type": "execute_result"
    }
   ],
   "source": [
    "X[None,:]"
   ]
  },
  {
   "cell_type": "code",
   "execution_count": 117,
   "id": "surrounded-florist",
   "metadata": {},
   "outputs": [
    {
     "data": {
      "text/plain": [
       "array([[[1., 2., 3., 4.]],\n",
       "\n",
       "       [[1., 2., 3., 4.]],\n",
       "\n",
       "       [[1., 2., 3., 4.]],\n",
       "\n",
       "       [[1., 2., 3., 4.]]])"
      ]
     },
     "execution_count": 117,
     "metadata": {},
     "output_type": "execute_result"
    }
   ],
   "source": [
    "X[:,None]"
   ]
  },
  {
   "cell_type": "code",
   "execution_count": null,
   "id": "extensive-wealth",
   "metadata": {},
   "outputs": [],
   "source": []
  }
 ],
 "metadata": {
  "kernelspec": {
   "display_name": "Python 3",
   "language": "python",
   "name": "python3"
  },
  "language_info": {
   "codemirror_mode": {
    "name": "ipython",
    "version": 3
   },
   "file_extension": ".py",
   "mimetype": "text/x-python",
   "name": "python",
   "nbconvert_exporter": "python",
   "pygments_lexer": "ipython3",
   "version": "3.8.8"
  }
 },
 "nbformat": 4,
 "nbformat_minor": 5
}
